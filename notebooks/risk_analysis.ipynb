{
  "nbformat": 4,
  "nbformat_minor": 0,
  "metadata": {
    "colab": {
      "provenance": [],
      "authorship_tag": "ABX9TyMQ89WmH+ixoZwxGujvV/Qq",
      "include_colab_link": true
    },
    "kernelspec": {
      "name": "python3",
      "display_name": "Python 3"
    },
    "language_info": {
      "name": "python"
    }
  },
  "cells": [
    {
      "cell_type": "markdown",
      "metadata": {
        "id": "view-in-github",
        "colab_type": "text"
      },
      "source": [
        "<a href=\"https://colab.research.google.com/github/gerogz/ai-deception-research/blob/main/notebooks/risk_analysis.ipynb\" target=\"_parent\"><img src=\"https://colab.research.google.com/assets/colab-badge.svg\" alt=\"Open In Colab\"/></a>"
      ]
    },
    {
      "cell_type": "code",
      "execution_count": null,
      "metadata": {
        "id": "NYkkVuwXg6yt"
      },
      "outputs": [],
      "source": [
        "from src.data_processing import load_and_clean_data\n",
        "from src.risk_categorization import compute_risk_levels\n",
        "from src.visualization import format_and_style"
      ]
    },
    {
      "cell_type": "code",
      "source": [
        "# Load data\n",
        "file_path = \"../data/sample_data.csv\"  # Adjust path if necessary\n",
        "data_cleaned = load_and_clean_data(file_path)\n",
        "\n",
        "# Display first few rows to verify\n",
        "data_cleaned.head()"
      ],
      "metadata": {
        "id": "JcHa6snmhgmV"
      },
      "execution_count": null,
      "outputs": []
    },
    {
      "cell_type": "code",
      "source": [
        "# Compute risk analysis\n",
        "risk_comparison_df = compute_risk_levels(data_cleaned)\n",
        "\n",
        "# Display raw (unstyled) DataFrame for quick inspection\n",
        "risk_comparison_df.head()"
      ],
      "metadata": {
        "id": "ltVr9gYNh3FH"
      },
      "execution_count": null,
      "outputs": []
    },
    {
      "cell_type": "code",
      "source": [
        "# Display styled results\n",
        "styled_df = format_and_style(risk_comparison_df)\n",
        "display(styled_df)"
      ],
      "metadata": {
        "id": "5AsAprach4WZ"
      },
      "execution_count": null,
      "outputs": []
    }
  ]
}