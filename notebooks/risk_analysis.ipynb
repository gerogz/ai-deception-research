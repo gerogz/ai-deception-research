from src.data_processing import load_and_clean_data
from src.risk_categorization import compute_risk_levels
from src.visualization import format_and_style

# Load data
file_path = "../data/sample_data.csv"
data_cleaned = load_and_clean_data(file_path)

# Compute risk analysis
risk_comparison_df = compute_risk_levels(data_cleaned)

# Display styled results
styled_df = format_and_style(risk_comparison_df)
display(styled_df)
