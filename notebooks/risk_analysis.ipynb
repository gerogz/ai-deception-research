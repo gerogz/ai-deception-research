{
  "nbformat": 4,
  "nbformat_minor": 0,
  "metadata": {
    "colab": {
      "provenance": [],
      "authorship_tag": "ABX9TyNFiyVdxIBykX3/Bspp05rZ",
      "include_colab_link": true
    },
    "kernelspec": {
      "name": "python3",
      "display_name": "Python 3"
    },
    "language_info": {
      "name": "python"
    }
  },
  "cells": [
    {
      "cell_type": "markdown",
      "metadata": {
        "id": "view-in-github",
        "colab_type": "text"
      },
      "source": [
        "<a href=\"https://colab.research.google.com/github/gerogz/robot-deception-research/blob/main/notebooks/risk_analysis.ipynb\" target=\"_parent\"><img src=\"https://colab.research.google.com/assets/colab-badge.svg\" alt=\"Open In Colab\"/></a>"
      ]
    },
    {
      "cell_type": "code",
      "execution_count": null,
      "metadata": {
        "id": "NYkkVuwXg6yt"
      },
      "outputs": [],
      "source": [
        "from src.data_processing import load_and_clean_data\n",
        "from src.risk_categorization import compute_risk_levels\n",
        "from src.clustering import apply_pca, find_optimal_clusters, perform_clustering\n",
        "from src.visualization import format_and_style, plot_clusters"
      ]
    },
    {
      "cell_type": "code",
      "source": [
        "# Load dataset\n",
        "file_path = \"../data/sample_data.csv\"\n",
        "data_cleaned = load_and_clean_data(file_path)\n",
        "\n",
        "# Show a sample\n",
        "data_cleaned.head()"
      ],
      "metadata": {
        "id": "JcHa6snmhgmV"
      },
      "execution_count": null,
      "outputs": []
    },
    {
      "cell_type": "code",
      "source": [
        "# Compute risk categorization\n",
        "risk_comparison_df = compute_risk_levels(data_cleaned)\n",
        "\n",
        "# Display raw DataFrame (before styling)\n",
        "risk_comparison_df.head()"
      ],
      "metadata": {
        "id": "ltVr9gYNh3FH"
      },
      "execution_count": null,
      "outputs": []
    },
    {
      "cell_type": "code",
      "source": [
        "# Apply styling\n",
        "styled_df = format_and_style(risk_comparison_df)\n",
        "display(styled_df)"
      ],
      "metadata": {
        "id": "5AsAprach4WZ"
      },
      "execution_count": null,
      "outputs": []
    },
    {
      "cell_type": "code",
      "source": [
        "# Extract only numeric columns for PCA\n",
        "numerical_data = data_cleaned.select_dtypes(include=['number'])\n",
        "\n",
        "# Check first rows to verify\n",
        "numerical_data.head()"
      ],
      "metadata": {
        "id": "RxFlbDa1lXjD"
      },
      "execution_count": null,
      "outputs": []
    },
    {
      "cell_type": "code",
      "source": [
        "# Reduce dimensions using PCA\n",
        "pca_data, pca_model = apply_pca(numerical_data, n_components=2)\n",
        "pca_data.head()"
      ],
      "metadata": {
        "id": "Y4JMflg_lZTM"
      },
      "execution_count": null,
      "outputs": []
    },
    {
      "cell_type": "code",
      "source": [
        "# Use the Elbow Method & Silhouette Score\n",
        "optimal_k = find_optimal_clusters(pca_data, max_clusters=10)"
      ],
      "metadata": {
        "id": "9Ctrd8Mbla2B"
      },
      "execution_count": null,
      "outputs": []
    },
    {
      "cell_type": "code",
      "source": [
        "# Perform K-Means clustering\n",
        "cluster_labels, kmeans_model = perform_clustering(pca_data, n_clusters=optimal_k)\n",
        "\n",
        "# Add cluster labels to PCA data\n",
        "pca_data[\"Cluster\"] = cluster_labels\n",
        "pca_data.head()"
      ],
      "metadata": {
        "id": "SxEFq2C_lcb-"
      },
      "execution_count": null,
      "outputs": []
    },
    {
      "cell_type": "code",
      "source": [
        "# Plot clusters based on PCA\n",
        "plot_clusters(pca_data, cluster_labels)"
      ],
      "metadata": {
        "id": "vfuZ1wVflfJj"
      },
      "execution_count": null,
      "outputs": []
    }
  ]
}